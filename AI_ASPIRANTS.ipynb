{
  "nbformat": 4,
  "nbformat_minor": 0,
  "metadata": {
    "colab": {
      "name": "AI ASPIRANTS.ipynb",
      "provenance": [],
      "collapsed_sections": [],
      "include_colab_link": true
    },
    "kernelspec": {
      "name": "python3",
      "display_name": "Python 3"
    }
  },
  "cells": [
    {
      "cell_type": "markdown",
      "metadata": {
        "id": "view-in-github",
        "colab_type": "text"
      },
      "source": [
        "<a href=\"https://colab.research.google.com/github/Vidyaanusha/Exploratory-data-analysis/blob/main/AI_ASPIRANTS.ipynb\" target=\"_parent\"><img src=\"https://colab.research.google.com/assets/colab-badge.svg\" alt=\"Open In Colab\"/></a>"
      ]
    },
    {
      "cell_type": "code",
      "metadata": {
        "id": "HCNlygK3hkpk",
        "outputId": "1e3bcf61-0fc6-4020-fea4-1018a80a5181",
        "colab": {
          "base_uri": "https://localhost:8080/",
          "height": 251
        }
      },
      "source": [
        "import pandas as pd\n",
        "df=pd.read_csv(\"/content/delhi-weather-data (12).zip\")\n",
        "print(df)"
      ],
      "execution_count": null,
      "outputs": [
        {
          "output_type": "stream",
          "text": [
            "          datetime_utc  _conds   _dewptm  ...   _wgustm   _windchillm   _wspdm\n",
            "0       19961101-11:00   Smoke       9.0  ...       NaN           NaN      7.4\n",
            "1       19961101-12:00   Smoke      10.0  ...       NaN           NaN      NaN\n",
            "2       19961101-13:00   Smoke      11.0  ...       NaN           NaN      NaN\n",
            "3       19961101-14:00   Smoke      10.0  ...       NaN           NaN      NaN\n",
            "4       19961101-16:00   Smoke      11.0  ...       NaN           NaN      0.0\n",
            "...                ...     ...       ...  ...       ...           ...      ...\n",
            "100985  20170424-06:00    Haze      17.0  ...       NaN           NaN     11.1\n",
            "100986  20170424-09:00    Haze      14.0  ...       NaN           NaN     22.2\n",
            "100987  20170424-12:00    Haze      12.0  ...       NaN           NaN     18.5\n",
            "100988  20170424-15:00    Haze      15.0  ...       NaN           NaN      3.7\n",
            "100989  20170424-18:00    Haze      15.0  ...       NaN           NaN      3.7\n",
            "\n",
            "[100990 rows x 20 columns]\n"
          ],
          "name": "stdout"
        }
      ]
    },
    {
      "cell_type": "markdown",
      "metadata": {
        "id": "WNfn88ioeQx-"
      },
      "source": [
        "**DESCRIPTION**:"
      ]
    },
    {
      "cell_type": "markdown",
      "metadata": {
        "id": "ApOB-HLAeZIf"
      },
      "source": [
        "The dataset is \"DELHI-WEATHER-DATA\"(from 1997 to 2016). The features in the dataset are:"
      ]
    },
    {
      "cell_type": "markdown",
      "metadata": {
        "id": "M491pKrMZBZI"
      },
      "source": [
        "**datetime_utc**:Its purpose is to minimize the effort to convert datatime to/from UTC and to obtain current date and time."
      ]
    },
    {
      "cell_type": "markdown",
      "metadata": {
        "id": "jE2MDNuwZgAS"
      },
      "source": [
        "**conds**:Atmospheric conditions that comprise the state of the atmosphere in terms of temperature."
      ]
    },
    {
      "cell_type": "markdown",
      "metadata": {
        "id": "8Z9kVb63aJkV"
      },
      "source": [
        "**dewptm**:The atmospheric temperature below which water droplets began to condense due can form."
      ]
    },
    {
      "cell_type": "markdown",
      "metadata": {
        "id": "prDShnloagYe"
      },
      "source": [
        "**fog**:Fog is a visible aerosol consisting of tiny water droplets or ice crystals suspended in the air at or near the earth's surface."
      ]
    },
    {
      "cell_type": "markdown",
      "metadata": {
        "id": "J7IENkXXaiY8"
      },
      "source": [
        "**hail**:Pellets of frozen air which fall in showers from cumulonimbus clouds."
      ]
    },
    {
      "cell_type": "markdown",
      "metadata": {
        "id": "CPT81dUOauhS"
      },
      "source": [
        "**heatindexm**:The heat is a measure of how hot is really feels when relative humidity is factored in with the actual air."
      ]
    },
    {
      "cell_type": "markdown",
      "metadata": {
        "id": "miq8i56Ia0XB"
      },
      "source": [
        "**hum**:A quantity representing the amount of water vapour in the atmosphere or in a gas."
      ]
    },
    {
      "cell_type": "markdown",
      "metadata": {
        "id": "lizMOJk2bBSI"
      },
      "source": [
        "**precipm**:Precipitation is the total amount of rain that falls with in a specific observation period."
      ]
    },
    {
      "cell_type": "markdown",
      "metadata": {
        "id": "WDr4TPZUbKQJ"
      },
      "source": [
        "**pressurem**:Air pressure is the force per unit of area exerted on the earth's surface by the weight of the air above the surface."
      ]
    },
    {
      "cell_type": "markdown",
      "metadata": {
        "id": "bfoh04W0bU9F"
      },
      "source": [
        "**rain**:Rain is the liquid water in the form of droplets that have condensed from atmospheric water vapour and then become heavy enough to fall under gravity."
      ]
    },
    {
      "cell_type": "markdown",
      "metadata": {
        "id": "TecvZXJqbcZQ"
      },
      "source": [
        "**snow**:The small, soft, white pieces of ice that sometimes fall from the sky when it is cold."
      ]
    },
    {
      "cell_type": "markdown",
      "metadata": {
        "id": "KsmkWvHfbjqk"
      },
      "source": [
        "**tempm**:Rainfall may affect soil moisture which may in turn affect surface temperature by controlling the partitioning between the sensible and latent heat fluxes."
      ]
    },
    {
      "cell_type": "markdown",
      "metadata": {
        "id": "4gKwjUn0bqh3"
      },
      "source": [
        "**thunder**:Thunder is the sound caused by lightining."
      ]
    },
    {
      "cell_type": "markdown",
      "metadata": {
        "id": "-cNBnpU7b7tS"
      },
      "source": [
        "**tornado**:A tornado is rapidly rotating column of air."
      ]
    },
    {
      "cell_type": "markdown",
      "metadata": {
        "id": "-DhK7pU-cTl1"
      },
      "source": [
        "**vism**:Speed of sound in solids at room temperature."
      ]
    },
    {
      "cell_type": "markdown",
      "metadata": {
        "id": "VX1blHz7ceLG"
      },
      "source": [
        "\n",
        "**wdird**:It's an inevitability of global warming."
      ]
    },
    {
      "cell_type": "markdown",
      "metadata": {
        "id": "XGiDpNSHcqZx"
      },
      "source": [
        "**wdire**:The wire temperature rating is determined by testing the circuit breaker."
      ]
    },
    {
      "cell_type": "markdown",
      "metadata": {
        "id": "nxNpkKiCc_tx"
      },
      "source": [
        "**wgustm**:The average temperature for the month of august."
      ]
    },
    {
      "cell_type": "markdown",
      "metadata": {
        "id": "6AixaYNjda2-"
      },
      "source": [
        "**windchillm**:Windchill is the lowering of a body temperature due to the passing-flow 0f lower-temperature."
      ]
    },
    {
      "cell_type": "markdown",
      "metadata": {
        "id": "FyVJ9xcyeDV3"
      },
      "source": [
        "**wspdm**:Wind speed in kph."
      ]
    },
    {
      "cell_type": "markdown",
      "metadata": {
        "id": "Kqv9lfDn_UMB"
      },
      "source": [
        "#READING DATA:\n"
      ]
    },
    {
      "cell_type": "code",
      "metadata": {
        "id": "XQA3Aaix_tv4",
        "outputId": "e3555726-daad-41f6-b7f2-9bd1d9146a4e",
        "colab": {
          "base_uri": "https://localhost:8080/",
          "height": 689
        }
      },
      "source": [
        "#Reading data\n",
        "import pandas as pd\n",
        "from matplotlib import pyplot as plt\n",
        "import seaborn as sns\n",
        "df=pd.read_csv(\"/content/delhi-weather-data (12).zip\")\n",
        "print(df)\n",
        "print(df.info())"
      ],
      "execution_count": null,
      "outputs": [
        {
          "output_type": "stream",
          "text": [
            "          datetime_utc  _conds   _dewptm  ...   _wgustm   _windchillm   _wspdm\n",
            "0       19961101-11:00   Smoke       9.0  ...       NaN           NaN      7.4\n",
            "1       19961101-12:00   Smoke      10.0  ...       NaN           NaN      NaN\n",
            "2       19961101-13:00   Smoke      11.0  ...       NaN           NaN      NaN\n",
            "3       19961101-14:00   Smoke      10.0  ...       NaN           NaN      NaN\n",
            "4       19961101-16:00   Smoke      11.0  ...       NaN           NaN      0.0\n",
            "...                ...     ...       ...  ...       ...           ...      ...\n",
            "100985  20170424-06:00    Haze      17.0  ...       NaN           NaN     11.1\n",
            "100986  20170424-09:00    Haze      14.0  ...       NaN           NaN     22.2\n",
            "100987  20170424-12:00    Haze      12.0  ...       NaN           NaN     18.5\n",
            "100988  20170424-15:00    Haze      15.0  ...       NaN           NaN      3.7\n",
            "100989  20170424-18:00    Haze      15.0  ...       NaN           NaN      3.7\n",
            "\n",
            "[100990 rows x 20 columns]\n",
            "<class 'pandas.core.frame.DataFrame'>\n",
            "RangeIndex: 100990 entries, 0 to 100989\n",
            "Data columns (total 20 columns):\n",
            "datetime_utc    100990 non-null object\n",
            " _conds         100918 non-null object\n",
            " _dewptm        100369 non-null float64\n",
            " _fog           100990 non-null int64\n",
            " _hail          100990 non-null int64\n",
            " _heatindexm    29155 non-null float64\n",
            " _hum           100233 non-null float64\n",
            " _precipm       0 non-null float64\n",
            " _pressurem     100758 non-null float64\n",
            " _rain          100990 non-null int64\n",
            " _snow          100990 non-null int64\n",
            " _tempm         100317 non-null float64\n",
            " _thunder       100990 non-null int64\n",
            " _tornado       100990 non-null int64\n",
            " _vism          96562 non-null float64\n",
            " _wdird         86235 non-null float64\n",
            " _wdire         86235 non-null object\n",
            " _wgustm        1072 non-null float64\n",
            " _windchillm    579 non-null float64\n",
            " _wspdm         98632 non-null float64\n",
            "dtypes: float64(11), int64(6), object(3)\n",
            "memory usage: 15.4+ MB\n",
            "None\n"
          ],
          "name": "stdout"
        }
      ]
    },
    {
      "cell_type": "markdown",
      "metadata": {
        "id": "iLdq8huQATA4"
      },
      "source": [
        "**QUESTIONS**:\n",
        "# How to access rows from first and last in a dataset?\n",
        "# How to access number of rows and columns in a dataset?\n",
        "# How to access names of columns in a dataset?\n",
        "# How do you access the 1st, 500th, and 5000th row from the dataset? \n",
        "# How to find the particular row in the dataset?"
      ]
    },
    {
      "cell_type": "code",
      "metadata": {
        "id": "uSOQm_8MCq-Z",
        "outputId": "9ef27b94-7972-4c54-96cb-dbe22c5af73b",
        "colab": {
          "base_uri": "https://localhost:8080/",
          "height": 284
        }
      },
      "source": [
        "#Number of rows from first and last in a dataset\n",
        "print(df.head())\n",
        "print(df.tail())"
      ],
      "execution_count": null,
      "outputs": [
        {
          "output_type": "stream",
          "text": [
            "     datetime_utc  _conds   _dewptm  ...   _wgustm   _windchillm   _wspdm\n",
            "0  19961101-11:00   Smoke       9.0  ...       NaN           NaN      7.4\n",
            "1  19961101-12:00   Smoke      10.0  ...       NaN           NaN      NaN\n",
            "2  19961101-13:00   Smoke      11.0  ...       NaN           NaN      NaN\n",
            "3  19961101-14:00   Smoke      10.0  ...       NaN           NaN      NaN\n",
            "4  19961101-16:00   Smoke      11.0  ...       NaN           NaN      0.0\n",
            "\n",
            "[5 rows x 20 columns]\n",
            "          datetime_utc  _conds   _dewptm  ...   _wgustm   _windchillm   _wspdm\n",
            "100985  20170424-06:00    Haze      17.0  ...       NaN           NaN     11.1\n",
            "100986  20170424-09:00    Haze      14.0  ...       NaN           NaN     22.2\n",
            "100987  20170424-12:00    Haze      12.0  ...       NaN           NaN     18.5\n",
            "100988  20170424-15:00    Haze      15.0  ...       NaN           NaN      3.7\n",
            "100989  20170424-18:00    Haze      15.0  ...       NaN           NaN      3.7\n",
            "\n",
            "[5 rows x 20 columns]\n"
          ],
          "name": "stdout"
        }
      ]
    },
    {
      "cell_type": "code",
      "metadata": {
        "id": "TVE_3qa6DA0o",
        "outputId": "846b1013-bfba-4a58-faf6-9010e3b6f90a",
        "colab": {
          "base_uri": "https://localhost:8080/",
          "height": 33
        }
      },
      "source": [
        "#Number of rows and columns in a dataset\n",
        "print(df.shape)"
      ],
      "execution_count": null,
      "outputs": [
        {
          "output_type": "stream",
          "text": [
            "(100990, 20)\n"
          ],
          "name": "stdout"
        }
      ]
    },
    {
      "cell_type": "code",
      "metadata": {
        "id": "JMv6cAK7DO19",
        "outputId": "2e8a49eb-915c-4e62-ac03-84ad67a2300c",
        "colab": {
          "base_uri": "https://localhost:8080/",
          "height": 100
        }
      },
      "source": [
        "#Names of columns in a dataset\n",
        "print(df.columns)"
      ],
      "execution_count": null,
      "outputs": [
        {
          "output_type": "stream",
          "text": [
            "Index(['datetime_utc', ' _conds', ' _dewptm', ' _fog', ' _hail',\n",
            "       ' _heatindexm', ' _hum', ' _precipm', ' _pressurem', ' _rain', ' _snow',\n",
            "       ' _tempm', ' _thunder', ' _tornado', ' _vism', ' _wdird', ' _wdire',\n",
            "       ' _wgustm', ' _windchillm', ' _wspdm'],\n",
            "      dtype='object')\n"
          ],
          "name": "stdout"
        }
      ]
    },
    {
      "cell_type": "code",
      "metadata": {
        "id": "5H3jq2DLDZLB",
        "outputId": "729f8219-2b7a-475b-fc27-5c9cf48a7981",
        "colab": {
          "base_uri": "https://localhost:8080/",
          "height": 117
        }
      },
      "source": [
        "#To get 1st,500th and 5000th row from the dataset\n",
        "print(df.iloc[[0,499,4999]])"
      ],
      "execution_count": null,
      "outputs": [
        {
          "output_type": "stream",
          "text": [
            "        datetime_utc  _conds   _dewptm  ...   _wgustm   _windchillm   _wspdm\n",
            "0     19961101-11:00   Smoke       9.0  ...       NaN           NaN      7.4\n",
            "499   19961125-05:00   Smoke       5.0  ...       NaN           NaN     11.1\n",
            "4999  19970714-03:00    Rain      27.0  ...       NaN           NaN      9.3\n",
            "\n",
            "[3 rows x 20 columns]\n"
          ],
          "name": "stdout"
        }
      ]
    },
    {
      "cell_type": "code",
      "metadata": {
        "id": "rJrFWVC4FxPH",
        "outputId": "71649eef-d6e8-4d05-d639-fc8ee4379f15",
        "colab": {
          "base_uri": "https://localhost:8080/",
          "height": 368
        }
      },
      "source": [
        "#To get particular row in a dataset\n",
        "print(df.loc[99])\n"
      ],
      "execution_count": null,
      "outputs": [
        {
          "output_type": "stream",
          "text": [
            "datetime_utc    19961107-00:00\n",
            " _conds                  Smoke\n",
            " _dewptm                    11\n",
            " _fog                        0\n",
            " _hail                       0\n",
            " _heatindexm               NaN\n",
            " _hum                       77\n",
            " _precipm                  NaN\n",
            " _pressurem               1012\n",
            " _rain                       0\n",
            " _snow                       0\n",
            " _tempm                     15\n",
            " _thunder                    0\n",
            " _tornado                    0\n",
            " _vism                     1.5\n",
            " _wdird                      0\n",
            " _wdire                  North\n",
            " _wgustm                   NaN\n",
            " _windchillm               NaN\n",
            " _wspdm                      0\n",
            "Name: 99, dtype: object\n"
          ],
          "name": "stdout"
        }
      ]
    },
    {
      "cell_type": "code",
      "metadata": {
        "id": "GoG4GmHsWJou",
        "outputId": "d9f28b0d-8c08-4bf8-ef04-50836e45c4af",
        "colab": {
          "base_uri": "https://localhost:8080/",
          "height": 452
        }
      },
      "source": [
        "print(df.info())\n"
      ],
      "execution_count": null,
      "outputs": [
        {
          "output_type": "stream",
          "text": [
            "<class 'pandas.core.frame.DataFrame'>\n",
            "RangeIndex: 100990 entries, 0 to 100989\n",
            "Data columns (total 20 columns):\n",
            "datetime_utc    100990 non-null object\n",
            " _conds         100918 non-null object\n",
            " _dewptm        100369 non-null float64\n",
            " _fog           100990 non-null int64\n",
            " _hail          100990 non-null int64\n",
            " _heatindexm    29155 non-null float64\n",
            " _hum           100233 non-null float64\n",
            " _precipm       0 non-null float64\n",
            " _pressurem     100758 non-null float64\n",
            " _rain          100990 non-null int64\n",
            " _snow          100990 non-null int64\n",
            " _tempm         100317 non-null float64\n",
            " _thunder       100990 non-null int64\n",
            " _tornado       100990 non-null int64\n",
            " _vism          96562 non-null float64\n",
            " _wdird         86235 non-null float64\n",
            " _wdire         86235 non-null object\n",
            " _wgustm        1072 non-null float64\n",
            " _windchillm    579 non-null float64\n",
            " _wspdm         98632 non-null float64\n",
            "dtypes: float64(11), int64(6), object(3)\n",
            "memory usage: 15.4+ MB\n",
            "None\n"
          ],
          "name": "stdout"
        }
      ]
    },
    {
      "cell_type": "code",
      "metadata": {
        "id": "Anle46DXdJJc",
        "outputId": "b95bb6e3-d63e-4876-8cae-301d499f8250",
        "colab": {
          "base_uri": "https://localhost:8080/",
          "height": 368
        }
      },
      "source": [
        "print(df.dtypes)"
      ],
      "execution_count": null,
      "outputs": [
        {
          "output_type": "stream",
          "text": [
            "datetime_utc     object\n",
            " _conds          object\n",
            " _dewptm        float64\n",
            " _fog             int64\n",
            " _hail            int64\n",
            " _heatindexm    float64\n",
            " _hum           float64\n",
            " _precipm       float64\n",
            " _pressurem     float64\n",
            " _rain            int64\n",
            " _snow            int64\n",
            " _tempm         float64\n",
            " _thunder         int64\n",
            " _tornado         int64\n",
            " _vism          float64\n",
            " _wdird         float64\n",
            " _wdire          object\n",
            " _wgustm        float64\n",
            " _windchillm    float64\n",
            " _wspdm         float64\n",
            "dtype: object\n"
          ],
          "name": "stdout"
        }
      ]
    },
    {
      "cell_type": "code",
      "metadata": {
        "id": "kzfrjibV0K4q",
        "outputId": "f1edec0c-2f68-4a72-f6eb-041f89ddfbe0",
        "colab": {
          "base_uri": "https://localhost:8080/",
          "height": 368
        }
      },
      "source": [
        "df.isna().sum()"
      ],
      "execution_count": null,
      "outputs": [
        {
          "output_type": "execute_result",
          "data": {
            "text/plain": [
              "datetime_utc         0\n",
              " _conds             72\n",
              " _dewptm           621\n",
              " _fog                0\n",
              " _hail               0\n",
              " _heatindexm     71835\n",
              " _hum              757\n",
              " _precipm       100990\n",
              " _pressurem        232\n",
              " _rain               0\n",
              " _snow               0\n",
              " _tempm            673\n",
              " _thunder            0\n",
              " _tornado            0\n",
              " _vism            4428\n",
              " _wdird          14755\n",
              " _wdire          14755\n",
              " _wgustm         99918\n",
              " _windchillm    100411\n",
              " _wspdm           2358\n",
              "dtype: int64"
            ]
          },
          "metadata": {
            "tags": []
          },
          "execution_count": 58
        }
      ]
    },
    {
      "cell_type": "markdown",
      "metadata": {
        "id": "YWuz15-If817"
      },
      "source": [
        "**HISTOGRAM**"
      ]
    },
    {
      "cell_type": "code",
      "metadata": {
        "id": "SC6r6kph4q13",
        "outputId": "3496d2b1-b954-45d0-afd5-5f4da4e9d29f",
        "colab": {
          "base_uri": "https://localhost:8080/",
          "height": 295
        }
      },
      "source": [
        "plt.hist(df[' _rain'],color='green',edgecolor='red',bins=2)\n",
        "plt.title('Histogram of rain')\n",
        "plt.xlabel('rain')\n",
        "plt.ylabel('snow')\n",
        "plt.show()"
      ],
      "execution_count": null,
      "outputs": [
        {
          "output_type": "display_data",
          "data": {
            "image/png": "[encoded data removed]",
            "text/plain": [
              "<Figure size 432x288 with 1 Axes>"
            ]
          },
          "metadata": {
            "tags": []
          }
        }
      ]
    },
    {
      "cell_type": "markdown",
      "metadata": {
        "id": "rz8r6EsjgFjZ"
      },
      "source": [
        "**SCATTER PLOT**"
      ]
    },
    {
      "cell_type": "code",
      "metadata": {
        "id": "BrpU0jMh5Xu5",
        "outputId": "7e0e7f5b-29cd-4b96-cf75-0912274e818b",
        "colab": {
          "base_uri": "https://localhost:8080/",
          "height": 295
        }
      },
      "source": [
        "plt.scatter(df[' _tempm'],df[' _windchillm'],c='black')\n",
        "plt.title('Scatter plot of tempm vs windchillm')\n",
        "plt.xlabel('tempm')\n",
        "plt.ylabel('windchillm')\n",
        "plt.show()"
      ],
      "execution_count": null,
      "outputs": [
        {
          "output_type": "display_data",
          "data": {
            "image/png": "[encoded data removed]",
            "text/plain": [
              "<Figure size 432x288 with 1 Axes>"
            ]
          },
          "metadata": {
            "tags": []
          }
        }
      ]
    },
    {
      "cell_type": "markdown",
      "metadata": {
        "id": "QJduiCijgPkM"
      },
      "source": [
        "**SEABORN**"
      ]
    },
    {
      "cell_type": "code",
      "metadata": {
        "id": "2BB817lq8W1w",
        "outputId": "0fafb05e-0873-4da4-8581-a4450deef00e",
        "colab": {
          "base_uri": "https://localhost:8080/",
          "height": 297
        }
      },
      "source": [
        "import seaborn as sns\n",
        "sns.violinplot(x=' _tempm',data=df)\n"
      ],
      "execution_count": null,
      "outputs": [
        {
          "output_type": "execute_result",
          "data": {
            "text/plain": [
              "<matplotlib.axes._subplots.AxesSubplot at 0x7fbb4d5bdf28>"
            ]
          },
          "metadata": {
            "tags": []
          },
          "execution_count": 147
        },
        {
          "output_type": "display_data",
          "data": {
            "image/png": "[encoded data removed]",
            "text/plain": [
              "<Figure size 432x288 with 1 Axes>"
            ]
          },
          "metadata": {
            "tags": []
          }
        }
      ]
    },
    {
      "cell_type": "markdown",
      "metadata": {
        "id": "YJu2IzBgined"
      },
      "source": [
        "**BOXPLOT**"
      ]
    },
    {
      "cell_type": "code",
      "metadata": {
        "id": "0PmPk_Q6-YTk",
        "outputId": "674b5aa7-d54d-4050-9a51-c3dc5d6b96ca",
        "colab": {
          "base_uri": "https://localhost:8080/",
          "height": 297
        }
      },
      "source": [
        "sns.boxplot(x=df[' _thunder'],y=df[' _wgustm'])"
      ],
      "execution_count": null,
      "outputs": [
        {
          "output_type": "execute_result",
          "data": {
            "text/plain": [
              "<matplotlib.axes._subplots.AxesSubplot at 0x7fbb632944e0>"
            ]
          },
          "metadata": {
            "tags": []
          },
          "execution_count": 82
        },
        {
          "output_type": "display_data",
          "data": {
            "image/png": "[encoded data removed]",
            "text/plain": [
              "<Figure size 432x288 with 1 Axes>"
            ]
          },
          "metadata": {
            "tags": []
          }
        }
      ]
    },
    {
      "cell_type": "code",
      "metadata": {
        "id": "34PVGMUHCzTA",
        "outputId": "25c58c94-7cf8-4460-d511-fca24efc8838",
        "colab": {
          "base_uri": "https://localhost:8080/",
          "height": 33
        }
      },
      "source": [
        "df[' _heatindexm'].median()"
      ],
      "execution_count": null,
      "outputs": [
        {
          "output_type": "execute_result",
          "data": {
            "text/plain": [
              "35.1"
            ]
          },
          "metadata": {
            "tags": []
          },
          "execution_count": 91
        }
      ]
    },
    {
      "cell_type": "code",
      "metadata": {
        "id": "_IL-FRpiDll_"
      },
      "source": [
        "df[' _pressurem'].fillna(df[' _pressurem'].median(),\\\n",
        "                         inplace = True)"
      ],
      "execution_count": null,
      "outputs": []
    },
    {
      "cell_type": "code",
      "metadata": {
        "id": "MxejwzgREZYs",
        "outputId": "f5617700-c9ae-4f45-b97d-4b83aa95c963",
        "colab": {
          "base_uri": "https://localhost:8080/",
          "height": 368
        }
      },
      "source": [
        "df.isnull().sum()"
      ],
      "execution_count": null,
      "outputs": [
        {
          "output_type": "execute_result",
          "data": {
            "text/plain": [
              "datetime_utc         0\n",
              " _conds             72\n",
              " _dewptm           621\n",
              " _fog                0\n",
              " _hail               0\n",
              " _heatindexm     71835\n",
              " _hum              757\n",
              " _precipm       100990\n",
              " _pressurem          0\n",
              " _rain               0\n",
              " _snow               0\n",
              " _tempm            673\n",
              " _thunder            0\n",
              " _tornado            0\n",
              " _vism            4428\n",
              " _wdird          14755\n",
              " _wdire          14755\n",
              " _wgustm         99918\n",
              " _windchillm    100411\n",
              " _wspdm           2358\n",
              "dtype: int64"
            ]
          },
          "metadata": {
            "tags": []
          },
          "execution_count": 97
        }
      ]
    },
    {
      "cell_type": "code",
      "metadata": {
        "id": "upXBc1L5ExsZ"
      },
      "source": [
        "df[' _dewptm'].fillna(df[' _dewptm'].median(),\\\n",
        "                      inplace = True)"
      ],
      "execution_count": null,
      "outputs": []
    },
    {
      "cell_type": "code",
      "metadata": {
        "id": "5Y-R4P16FE3y"
      },
      "source": [
        "df[' _heatindexm'].fillna(df[' _heatindexm'].median(),\\\n",
        "                      inplace = True)"
      ],
      "execution_count": null,
      "outputs": []
    },
    {
      "cell_type": "code",
      "metadata": {
        "id": "YriS8Z5xFU9V"
      },
      "source": [
        "df[' _hum'].fillna(df[' _hum'].median(),\\\n",
        "                   inplace = True)"
      ],
      "execution_count": null,
      "outputs": []
    },
    {
      "cell_type": "code",
      "metadata": {
        "id": "S3zRPLEIGAUY"
      },
      "source": [
        "df[' _precipm'].fillna(df[' _precipm'].median(),\\\n",
        "                       inplace = True)"
      ],
      "execution_count": null,
      "outputs": []
    },
    {
      "cell_type": "code",
      "metadata": {
        "id": "XXp8iLHkGVcu"
      },
      "source": [
        "df[' _tempm'].fillna(df[' _tempm'].median(),\\\n",
        "                     inplace = True)"
      ],
      "execution_count": null,
      "outputs": []
    },
    {
      "cell_type": "code",
      "metadata": {
        "id": "xPaXvhceGn_u"
      },
      "source": [
        "df[' _vism'].fillna(df[' _vism'].median(),\\\n",
        "                    inplace = True)"
      ],
      "execution_count": null,
      "outputs": []
    },
    {
      "cell_type": "code",
      "metadata": {
        "id": "M9XaXfqaG1hT"
      },
      "source": [
        "df[' _wdird'].fillna(df[' _wdird'].median(),\\\n",
        "                     inplace = True)"
      ],
      "execution_count": null,
      "outputs": []
    },
    {
      "cell_type": "code",
      "metadata": {
        "id": "TGi26jSBHMyI"
      },
      "source": [
        "df[' _wgustm'].fillna(df[' _wgustm'].median(),\\\n",
        "                      inplace = True)"
      ],
      "execution_count": null,
      "outputs": []
    },
    {
      "cell_type": "code",
      "metadata": {
        "id": "xDNW0VdtHajf"
      },
      "source": [
        "df[' _windchillm'].fillna(df[' _windchillm'].median(),\\\n",
        "                          inplace = True)"
      ],
      "execution_count": null,
      "outputs": []
    },
    {
      "cell_type": "code",
      "metadata": {
        "id": "lTLo5ekxHluG"
      },
      "source": [
        "df[' _wspdm'].fillna(df[' _wspdm'].median(),\\\n",
        "                     inplace = True)"
      ],
      "execution_count": null,
      "outputs": []
    },
    {
      "cell_type": "code",
      "metadata": {
        "id": "1IQnTOU4Nzel",
        "colab": {
          "base_uri": "https://localhost:8080/",
          "height": 370
        },
        "outputId": "d66e9490-a202-41ba-ddf1-cf3cd6c694e8"
      },
      "source": [
        "df.isnull().sum()"
      ],
      "execution_count": null,
      "outputs": [
        {
          "output_type": "execute_result",
          "data": {
            "text/plain": [
              "datetime_utc         0\n",
              " _conds             72\n",
              " _dewptm             0\n",
              " _fog                0\n",
              " _hail               0\n",
              " _heatindexm         0\n",
              " _hum                0\n",
              " _precipm       100990\n",
              " _pressurem          0\n",
              " _rain               0\n",
              " _snow               0\n",
              " _tempm              0\n",
              " _thunder            0\n",
              " _tornado            0\n",
              " _vism               0\n",
              " _wdird              0\n",
              " _wdire          14755\n",
              " _wgustm             0\n",
              " _windchillm         0\n",
              " _wspdm           2358\n",
              "dtype: int64"
            ]
          },
          "metadata": {
            "tags": []
          },
          "execution_count": 110
        }
      ]
    },
    {
      "cell_type": "code",
      "metadata": {
        "id": "JpyynTYOOJBx"
      },
      "source": [
        "df[' _precipm'].fillna(df[' _precipm'].median(),\\\n",
        "                       inplace = True)"
      ],
      "execution_count": null,
      "outputs": []
    },
    {
      "cell_type": "code",
      "metadata": {
        "id": "HML9u7LBRYHU",
        "colab": {
          "base_uri": "https://localhost:8080/",
          "height": 370
        },
        "outputId": "a34243a0-228d-488d-d3c7-513aec95231c"
      },
      "source": [
        "df.isnull().sum()"
      ],
      "execution_count": null,
      "outputs": [
        {
          "output_type": "execute_result",
          "data": {
            "text/plain": [
              "datetime_utc         0\n",
              " _conds             72\n",
              " _dewptm             0\n",
              " _fog                0\n",
              " _hail               0\n",
              " _heatindexm         0\n",
              " _hum                0\n",
              " _precipm       100990\n",
              " _pressurem          0\n",
              " _rain               0\n",
              " _snow               0\n",
              " _tempm              0\n",
              " _thunder            0\n",
              " _tornado            0\n",
              " _vism               0\n",
              " _wdird              0\n",
              " _wdire          14755\n",
              " _wgustm             0\n",
              " _windchillm         0\n",
              " _wspdm              0\n",
              "dtype: int64"
            ]
          },
          "metadata": {
            "tags": []
          },
          "execution_count": 118
        }
      ]
    },
    {
      "cell_type": "code",
      "metadata": {
        "id": "wnBAssxfQ5SK"
      },
      "source": [
        "df[' _wspdm'].fillna(df[' _wspdm'].median(),\\\n",
        "                     inplace = True)"
      ],
      "execution_count": null,
      "outputs": []
    },
    {
      "cell_type": "code",
      "metadata": {
        "id": "8k0eAVBSRITO",
        "colab": {
          "base_uri": "https://localhost:8080/",
          "height": 370
        },
        "outputId": "eb111373-a4e5-4403-91fe-79a2a16a7b9e"
      },
      "source": [
        "df.isnull().sum()"
      ],
      "execution_count": null,
      "outputs": [
        {
          "output_type": "execute_result",
          "data": {
            "text/plain": [
              "datetime_utc         0\n",
              " _conds             72\n",
              " _dewptm             0\n",
              " _fog                0\n",
              " _hail               0\n",
              " _heatindexm         0\n",
              " _hum                0\n",
              " _precipm       100990\n",
              " _pressurem          0\n",
              " _rain               0\n",
              " _snow               0\n",
              " _tempm              0\n",
              " _thunder            0\n",
              " _tornado            0\n",
              " _vism               0\n",
              " _wdird              0\n",
              " _wdire          14755\n",
              " _wgustm             0\n",
              " _windchillm         0\n",
              " _wspdm              0\n",
              "dtype: int64"
            ]
          },
          "metadata": {
            "tags": []
          },
          "execution_count": 116
        }
      ]
    },
    {
      "cell_type": "code",
      "metadata": {
        "id": "v5QYbAJ_Tf02",
        "colab": {
          "base_uri": "https://localhost:8080/",
          "height": 34
        },
        "outputId": "d3f1ce2c-c51b-4ceb-ab37-b7d581f10095"
      },
      "source": [
        "df[' _precipm'].mode()"
      ],
      "execution_count": null,
      "outputs": [
        {
          "output_type": "execute_result",
          "data": {
            "text/plain": [
              "Series([], dtype: float64)"
            ]
          },
          "metadata": {
            "tags": []
          },
          "execution_count": 126
        }
      ]
    },
    {
      "cell_type": "code",
      "metadata": {
        "id": "7p8MYlyfUAcN"
      },
      "source": [
        "df[' _precipm'].fillna(df[' _precipm']\\\n",
        "                       .mode(), inplace = True)"
      ],
      "execution_count": null,
      "outputs": []
    },
    {
      "cell_type": "code",
      "metadata": {
        "id": "ExLxuJp9UmGN",
        "colab": {
          "base_uri": "https://localhost:8080/",
          "height": 590
        },
        "outputId": "35e11921-c563-4754-f221-91f87597ba36"
      },
      "source": [
        "df.drop(columns=' _precipm')"
      ],
      "execution_count": null,
      "outputs": [
        {
          "output_type": "execute_result",
          "data": {
            "text/html": [
              "<div>\n",
              "<style scoped>\n",
              "    .dataframe tbody tr th:only-of-type {\n",
              "        vertical-align: middle;\n",
              "    }\n",
              "\n",
              "    .dataframe tbody tr th {\n",
              "        vertical-align: top;\n",
              "    }\n",
              "\n",
              "    .dataframe thead th {\n",
              "        text-align: right;\n",
              "    }\n",
              "</style>\n",
              "<table border=\"1\" class=\"dataframe\">\n",
              "  <thead>\n",
              "    <tr style=\"text-align: right;\">\n",
              "      <th></th>\n",
              "      <th>datetime_utc</th>\n",
              "      <th>_conds</th>\n",
              "      <th>_dewptm</th>\n",
              "      <th>_fog</th>\n",
              "      <th>_hail</th>\n",
              "      <th>_heatindexm</th>\n",
              "      <th>_hum</th>\n",
              "      <th>_pressurem</th>\n",
              "      <th>_rain</th>\n",
              "      <th>_snow</th>\n",
              "      <th>_tempm</th>\n",
              "      <th>_thunder</th>\n",
              "      <th>_tornado</th>\n",
              "      <th>_vism</th>\n",
              "      <th>_wdird</th>\n",
              "      <th>_wdire</th>\n",
              "      <th>_wgustm</th>\n",
              "      <th>_windchillm</th>\n",
              "      <th>_wspdm</th>\n",
              "    </tr>\n",
              "  </thead>\n",
              "  <tbody>\n",
              "    <tr>\n",
              "      <th>0</th>\n",
              "      <td>19961101-11:00</td>\n",
              "      <td>Smoke</td>\n",
              "      <td>9.0</td>\n",
              "      <td>0</td>\n",
              "      <td>0</td>\n",
              "      <td>35.1</td>\n",
              "      <td>27.0</td>\n",
              "      <td>1010.0</td>\n",
              "      <td>0</td>\n",
              "      <td>0</td>\n",
              "      <td>30.0</td>\n",
              "      <td>0</td>\n",
              "      <td>0</td>\n",
              "      <td>5.0</td>\n",
              "      <td>280.0</td>\n",
              "      <td>West</td>\n",
              "      <td>37.0</td>\n",
              "      <td>6.1</td>\n",
              "      <td>7.4</td>\n",
              "    </tr>\n",
              "    <tr>\n",
              "      <th>1</th>\n",
              "      <td>19961101-12:00</td>\n",
              "      <td>Smoke</td>\n",
              "      <td>10.0</td>\n",
              "      <td>0</td>\n",
              "      <td>0</td>\n",
              "      <td>35.1</td>\n",
              "      <td>32.0</td>\n",
              "      <td>-9999.0</td>\n",
              "      <td>0</td>\n",
              "      <td>0</td>\n",
              "      <td>28.0</td>\n",
              "      <td>0</td>\n",
              "      <td>0</td>\n",
              "      <td>2.0</td>\n",
              "      <td>0.0</td>\n",
              "      <td>North</td>\n",
              "      <td>37.0</td>\n",
              "      <td>6.1</td>\n",
              "      <td>7.4</td>\n",
              "    </tr>\n",
              "    <tr>\n",
              "      <th>2</th>\n",
              "      <td>19961101-13:00</td>\n",
              "      <td>Smoke</td>\n",
              "      <td>11.0</td>\n",
              "      <td>0</td>\n",
              "      <td>0</td>\n",
              "      <td>35.1</td>\n",
              "      <td>44.0</td>\n",
              "      <td>-9999.0</td>\n",
              "      <td>0</td>\n",
              "      <td>0</td>\n",
              "      <td>24.0</td>\n",
              "      <td>0</td>\n",
              "      <td>0</td>\n",
              "      <td>2.0</td>\n",
              "      <td>0.0</td>\n",
              "      <td>North</td>\n",
              "      <td>37.0</td>\n",
              "      <td>6.1</td>\n",
              "      <td>7.4</td>\n",
              "    </tr>\n",
              "    <tr>\n",
              "      <th>3</th>\n",
              "      <td>19961101-14:00</td>\n",
              "      <td>Smoke</td>\n",
              "      <td>10.0</td>\n",
              "      <td>0</td>\n",
              "      <td>0</td>\n",
              "      <td>35.1</td>\n",
              "      <td>41.0</td>\n",
              "      <td>1010.0</td>\n",
              "      <td>0</td>\n",
              "      <td>0</td>\n",
              "      <td>24.0</td>\n",
              "      <td>0</td>\n",
              "      <td>0</td>\n",
              "      <td>2.0</td>\n",
              "      <td>0.0</td>\n",
              "      <td>North</td>\n",
              "      <td>37.0</td>\n",
              "      <td>6.1</td>\n",
              "      <td>7.4</td>\n",
              "    </tr>\n",
              "    <tr>\n",
              "      <th>4</th>\n",
              "      <td>19961101-16:00</td>\n",
              "      <td>Smoke</td>\n",
              "      <td>11.0</td>\n",
              "      <td>0</td>\n",
              "      <td>0</td>\n",
              "      <td>35.1</td>\n",
              "      <td>47.0</td>\n",
              "      <td>1011.0</td>\n",
              "      <td>0</td>\n",
              "      <td>0</td>\n",
              "      <td>23.0</td>\n",
              "      <td>0</td>\n",
              "      <td>0</td>\n",
              "      <td>1.2</td>\n",
              "      <td>0.0</td>\n",
              "      <td>North</td>\n",
              "      <td>37.0</td>\n",
              "      <td>6.1</td>\n",
              "      <td>0.0</td>\n",
              "    </tr>\n",
              "    <tr>\n",
              "      <th>...</th>\n",
              "      <td>...</td>\n",
              "      <td>...</td>\n",
              "      <td>...</td>\n",
              "      <td>...</td>\n",
              "      <td>...</td>\n",
              "      <td>...</td>\n",
              "      <td>...</td>\n",
              "      <td>...</td>\n",
              "      <td>...</td>\n",
              "      <td>...</td>\n",
              "      <td>...</td>\n",
              "      <td>...</td>\n",
              "      <td>...</td>\n",
              "      <td>...</td>\n",
              "      <td>...</td>\n",
              "      <td>...</td>\n",
              "      <td>...</td>\n",
              "      <td>...</td>\n",
              "      <td>...</td>\n",
              "    </tr>\n",
              "    <tr>\n",
              "      <th>100985</th>\n",
              "      <td>20170424-06:00</td>\n",
              "      <td>Haze</td>\n",
              "      <td>17.0</td>\n",
              "      <td>0</td>\n",
              "      <td>0</td>\n",
              "      <td>35.1</td>\n",
              "      <td>25.0</td>\n",
              "      <td>1005.0</td>\n",
              "      <td>0</td>\n",
              "      <td>0</td>\n",
              "      <td>34.0</td>\n",
              "      <td>0</td>\n",
              "      <td>0</td>\n",
              "      <td>4.0</td>\n",
              "      <td>320.0</td>\n",
              "      <td>NW</td>\n",
              "      <td>37.0</td>\n",
              "      <td>6.1</td>\n",
              "      <td>11.1</td>\n",
              "    </tr>\n",
              "    <tr>\n",
              "      <th>100986</th>\n",
              "      <td>20170424-09:00</td>\n",
              "      <td>Haze</td>\n",
              "      <td>14.0</td>\n",
              "      <td>0</td>\n",
              "      <td>0</td>\n",
              "      <td>35.1</td>\n",
              "      <td>16.0</td>\n",
              "      <td>1003.0</td>\n",
              "      <td>0</td>\n",
              "      <td>0</td>\n",
              "      <td>38.0</td>\n",
              "      <td>0</td>\n",
              "      <td>0</td>\n",
              "      <td>4.0</td>\n",
              "      <td>320.0</td>\n",
              "      <td>NW</td>\n",
              "      <td>37.0</td>\n",
              "      <td>6.1</td>\n",
              "      <td>22.2</td>\n",
              "    </tr>\n",
              "    <tr>\n",
              "      <th>100987</th>\n",
              "      <td>20170424-12:00</td>\n",
              "      <td>Haze</td>\n",
              "      <td>12.0</td>\n",
              "      <td>0</td>\n",
              "      <td>0</td>\n",
              "      <td>35.1</td>\n",
              "      <td>14.0</td>\n",
              "      <td>1002.0</td>\n",
              "      <td>0</td>\n",
              "      <td>0</td>\n",
              "      <td>36.0</td>\n",
              "      <td>0</td>\n",
              "      <td>0</td>\n",
              "      <td>4.0</td>\n",
              "      <td>270.0</td>\n",
              "      <td>West</td>\n",
              "      <td>37.0</td>\n",
              "      <td>6.1</td>\n",
              "      <td>18.5</td>\n",
              "    </tr>\n",
              "    <tr>\n",
              "      <th>100988</th>\n",
              "      <td>20170424-15:00</td>\n",
              "      <td>Haze</td>\n",
              "      <td>15.0</td>\n",
              "      <td>0</td>\n",
              "      <td>0</td>\n",
              "      <td>35.1</td>\n",
              "      <td>27.0</td>\n",
              "      <td>1004.0</td>\n",
              "      <td>0</td>\n",
              "      <td>0</td>\n",
              "      <td>32.0</td>\n",
              "      <td>0</td>\n",
              "      <td>0</td>\n",
              "      <td>2.0</td>\n",
              "      <td>320.0</td>\n",
              "      <td>NW</td>\n",
              "      <td>37.0</td>\n",
              "      <td>6.1</td>\n",
              "      <td>3.7</td>\n",
              "    </tr>\n",
              "    <tr>\n",
              "      <th>100989</th>\n",
              "      <td>20170424-18:00</td>\n",
              "      <td>Haze</td>\n",
              "      <td>15.0</td>\n",
              "      <td>0</td>\n",
              "      <td>0</td>\n",
              "      <td>35.1</td>\n",
              "      <td>30.0</td>\n",
              "      <td>1005.0</td>\n",
              "      <td>0</td>\n",
              "      <td>0</td>\n",
              "      <td>30.0</td>\n",
              "      <td>0</td>\n",
              "      <td>0</td>\n",
              "      <td>2.0</td>\n",
              "      <td>320.0</td>\n",
              "      <td>NW</td>\n",
              "      <td>37.0</td>\n",
              "      <td>6.1</td>\n",
              "      <td>3.7</td>\n",
              "    </tr>\n",
              "  </tbody>\n",
              "</table>\n",
              "<p>100990 rows × 19 columns</p>\n",
              "</div>"
            ],
            "text/plain": [
              "          datetime_utc  _conds   _dewptm  ...   _wgustm   _windchillm   _wspdm\n",
              "0       19961101-11:00   Smoke       9.0  ...      37.0           6.1      7.4\n",
              "1       19961101-12:00   Smoke      10.0  ...      37.0           6.1      7.4\n",
              "2       19961101-13:00   Smoke      11.0  ...      37.0           6.1      7.4\n",
              "3       19961101-14:00   Smoke      10.0  ...      37.0           6.1      7.4\n",
              "4       19961101-16:00   Smoke      11.0  ...      37.0           6.1      0.0\n",
              "...                ...     ...       ...  ...       ...           ...      ...\n",
              "100985  20170424-06:00    Haze      17.0  ...      37.0           6.1     11.1\n",
              "100986  20170424-09:00    Haze      14.0  ...      37.0           6.1     22.2\n",
              "100987  20170424-12:00    Haze      12.0  ...      37.0           6.1     18.5\n",
              "100988  20170424-15:00    Haze      15.0  ...      37.0           6.1      3.7\n",
              "100989  20170424-18:00    Haze      15.0  ...      37.0           6.1      3.7\n",
              "\n",
              "[100990 rows x 19 columns]"
            ]
          },
          "metadata": {
            "tags": []
          },
          "execution_count": 135
        }
      ]
    },
    {
      "cell_type": "markdown",
      "metadata": {
        "id": "CyTZMNP2l0cl"
      },
      "source": [
        "**CONCLUSION**"
      ]
    },
    {
      "cell_type": "markdown",
      "metadata": {
        "id": "SPkFe0UGmev2"
      },
      "source": [
        "From the above information we can conclude that :\n",
        "\n"
      ]
    },
    {
      "cell_type": "markdown",
      "metadata": {
        "id": "MhvxiUbboQMl"
      },
      "source": [
        "* There are drastic changes in the weather conditionS of \"DELHI\" from\n",
        "\"1996-2016\"."
      ]
    },
    {
      "cell_type": "markdown",
      "metadata": {
        "id": "JBHX-qVxowuh"
      },
      "source": [
        "* There is gradual increase in the temperature and pressure conditions.\n"
      ]
    },
    {
      "cell_type": "markdown",
      "metadata": {
        "id": "ufTMUXPcowOT"
      },
      "source": [
        "* Rainfall, snow, thunder, hail and fog having very low levels."
      ]
    },
    {
      "cell_type": "markdown",
      "metadata": {
        "id": "O0eFcLRboosb"
      },
      "source": [
        "* Finally we conclude that weather conditions in DELHI from 1996-2016."
      ]
    },
    {
      "cell_type": "markdown",
      "metadata": {
        "id": "dqWH7exKtbGm"
      },
      "source": [
        "**CONTRIBUTORS**:"
      ]
    },
    {
      "cell_type": "markdown",
      "metadata": {
        "id": "uyWJBSfotGnb"
      },
      "source": [
        "**P.RAJITHA** -19PA1A05E4\n"
      ]
    },
    {
      "cell_type": "markdown",
      "metadata": {
        "id": "PjLYC23StoOQ"
      },
      "source": [
        "**R.LAKSHMI KAVYA** -19PA1A05F6"
      ]
    },
    {
      "cell_type": "markdown",
      "metadata": {
        "id": "ca6P9Aqltvts"
      },
      "source": [
        "**SK.IMRANA** -19PA1A05G8"
      ]
    },
    {
      "cell_type": "markdown",
      "metadata": {
        "id": "C1I4JjpWuIKw"
      },
      "source": [
        "**T.VIDYA ANUSHA** -19PA1A05H6"
      ]
    }
  ]
}